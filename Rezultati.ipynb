{
 "cells": [
  {
   "cell_type": "code",
   "execution_count": 60,
   "metadata": {},
   "outputs": [],
   "source": [
    "import numpy as np\n",
    "import matplotlib.pyplot as plt"
   ]
  },
  {
   "cell_type": "code",
   "execution_count": 61,
   "metadata": {},
   "outputs": [],
   "source": [
    "def read_results(algo, n):\n",
    "    res = []\n",
    "    with open(algo + '_' + str(n) + '.out') as f:\n",
    "        for i, line in enumerate(f):\n",
    "            res.append(float(line))\n",
    "    \n",
    "    return res"
   ]
  },
  {
   "cell_type": "code",
   "execution_count": 62,
   "metadata": {},
   "outputs": [
    {
     "name": "stdout",
     "output_type": "stream",
     "text": [
      "randomsort 3: 0.0\n",
      "bubble 3: 0.0\n",
      "randomsort 5: 0.0\n",
      "bubble 5: 0.0\n",
      "randomsort 6: 0.02\n",
      "bubble 6: 0.0\n",
      "randomsort 7: 0.027000000000000003\n",
      "bubble 7: 0.0\n",
      "randomsort 8: 0.12100000000000002\n",
      "bubble 8: 0.0\n",
      "randomsort 10: 1.0130000000000001\n",
      "bubble 10: 0.0\n",
      "randomsort 12: 149.764\n",
      "bubble 12: 0.0\n"
     ]
    }
   ],
   "source": [
    "result = {'randomsort': [], 'bubble': []}\n",
    "Ns = [3, 5, 6, 7, 8, 10, 12]\n",
    "for N in Ns:\n",
    "    for algo in ['randomsort', 'bubble']:\n",
    "        avg = np.average(read_results(algo, N))\n",
    "        result[algo].append(avg)\n",
    "        print(algo + \" \" + str(N) + \": \" + str(avg))"
   ]
  },
  {
   "cell_type": "code",
   "execution_count": 63,
   "metadata": {},
   "outputs": [
    {
     "data": {
      "text/plain": [
       "Text(0,0.5,'Execution time (s)')"
      ]
     },
     "execution_count": 63,
     "metadata": {},
     "output_type": "execute_result"
    },
    {
     "data": {
      "image/png": "[encoded data removed]",
      "text/plain": [
       "<matplotlib.figure.Figure at 0x117090eb8>"
      ]
     },
     "metadata": {},
     "output_type": "display_data"
    }
   ],
   "source": [
    "fig = plt.figure()\n",
    "ax = fig.add_subplot(1, 1, 1)\n",
    "ax.plot(Ns, result['randomsort'], 'ro', label='Random sort')\n",
    "ax.plot(Ns, result['bubble'], 'bo', label='Bubble sort')\n",
    "ax.set_yscale('symlog')\n",
    "ax.legend()\n",
    "plt.xlabel('Array size')\n",
    "plt.ylabel('Execution time (s)')"
   ]
  },
  {
   "cell_type": "code",
   "execution_count": null,
   "metadata": {},
   "outputs": [],
   "source": []
  }
 ],
 "metadata": {
  "kernelspec": {
   "display_name": "Python 3",
   "language": "python",
   "name": "python3"
  },
  "language_info": {
   "codemirror_mode": {
    "name": "ipython",
    "version": 3
   },
   "file_extension": ".py",
   "mimetype": "text/x-python",
   "name": "python",
   "nbconvert_exporter": "python",
   "pygments_lexer": "ipython3",
   "version": "3.6.4"
  }
 },
 "nbformat": 4,
 "nbformat_minor": 2
}
